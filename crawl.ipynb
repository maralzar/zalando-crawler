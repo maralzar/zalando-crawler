{
 "cells": [
  {
   "cell_type": "code",
   "execution_count": 14,
   "metadata": {},
   "outputs": [],
   "source": [
    "import requests\n",
    "from bs4 import BeautifulSoup\n",
    "from selenium import webdriver\n",
    "import time\n",
    "import urllib.request\n",
    "import os\n",
    "import tqdm"
   ]
  },
  {
   "cell_type": "markdown",
   "metadata": {},
   "source": [
    "# Install requirements\n",
    "You can use this [Selenium](https://selenium-python.readthedocs.io/installation.html) to install selenium.\n",
    "You can install  [BeautifulSoup](https://pypi.org/project/beautifulsoup4/)\n",
    "You can install  [urllib](https://www.scrapingbee.com/blog/download-image-python/)\n",
    "\n",
    "\n"
   ]
  },
  {
   "cell_type": "markdown",
   "metadata": {},
   "source": [
    "# Make a list of  URL in zalando  url pattern"
   ]
  },
  {
   "cell_type": "code",
   "execution_count": 6,
   "metadata": {},
   "outputs": [],
   "source": [
    "MAXPAGE = 428\n",
    "URLPATTERN = 'https://en.zalando.de/womens-clothing/?p='"
   ]
  },
  {
   "cell_type": "code",
   "execution_count": 7,
   "metadata": {},
   "outputs": [],
   "source": [
    "LIST_URL = [URLPATTERN+str(i) for i in range(1,MAXPAGE+1)]"
   ]
  },
  {
   "cell_type": "code",
   "execution_count": 12,
   "metadata": {},
   "outputs": [],
   "source": [
    "BASEPATH ='/home/maral/Videos/o/'"
   ]
  },
  {
   "cell_type": "markdown",
   "metadata": {},
   "source": [
    "# Crawling\n",
    "For crawling web pages, we first give it a url. We have to wait for the data to load, that's why we used \"sleep\".\n",
    "after getting data we parse the important tags: we get src  and href  for each garment and we can download it or index it!\n"
   ]
  },
  {
   "cell_type": "code",
   "execution_count": 109,
   "metadata": {
    "scrolled": true
   },
   "outputs": [],
   "source": [
    "def zalando_crawler(output_dicrectory,LIST_URL):\n",
    "    dict_url_location = {}\n",
    "    for page,url in enumerate(LIST_URL[0:1]):\n",
    "        #use selenum to get data with delay\n",
    "        page_folder_path = output_dicrectory+'page_'+str(page)\n",
    "        if not os.path.isdir(page_folder_path):\n",
    "                os.mkdir(page_folder_path)\n",
    "        browser = webdriver.Firefox()\n",
    "        browser.get(url)\n",
    "        time.sleep(10)\n",
    "        Bea = BeautifulSoup(browser.page_source, 'html.parser')\n",
    "        browser.close()\n",
    "        # parse data\n",
    "        products = Bea.find_all('div', {'class': 'DT5BTM w8MdNG cYylcv QylWsg _75qWlu iOzucJ JT3_zV DvypSJ'})\n",
    "        print(\"number of products\",len(products))\n",
    "        for i ,pro in enumerate(products):\n",
    "            image = pro.find('img').get('src')\n",
    "            href = pro.find('a').get('href')\n",
    "            path = page_folder_path +'/'+str(i)\n",
    "            if not os.path.isdir(path):\n",
    "                os.mkdir(path)\n",
    "                dict_url_location[image]= path+'/{}.jpg'.format(str(i)+'main')\n",
    "            if len(href.split('.html'))==2:\n",
    "                response = requests.get(href,headers={'User-Agent': 'Chrome/77.0.3865.90 Safari/537.36'})\n",
    "                soup = BeautifulSoup(response.text, 'html.parser')\n",
    "                products_page_two = soup.find_all('li',{'class': 'LiPgRT DlJ4rT hPWzFB'})\n",
    "                print(\"products_page_two\",len(products_page_two))\n",
    "\n",
    "                for k,item in enumerate(products_page_two):\n",
    "                    img =item.find('img').get('src').replace('?imwidth=','?imwidth=400')\n",
    "                    dict_url_location[img]= path +\"/{}.jpg\".format(str(k))\n",
    "             \n",
    "                \n",
    "\n",
    "                "
   ]
  },
  {
   "cell_type": "code",
   "execution_count": 111,
   "metadata": {},
   "outputs": [
    {
     "name": "stdout",
     "output_type": "stream",
     "text": [
      "number of products 88\n",
      "products_page_two 3\n",
      "products_page_two 5\n",
      "products_page_two 3\n",
      "products_page_two 6\n",
      "products_page_two 6\n",
      "products_page_two 5\n",
      "products_page_two 7\n",
      "products_page_two 7\n",
      "products_page_two 6\n",
      "products_page_two 6\n",
      "products_page_two 5\n",
      "products_page_two 5\n",
      "products_page_two 8\n",
      "products_page_two 6\n",
      "products_page_two 7\n",
      "products_page_two 3\n",
      "products_page_two 4\n",
      "products_page_two 5\n",
      "products_page_two 5\n",
      "products_page_two 7\n",
      "products_page_two 5\n",
      "products_page_two 5\n",
      "products_page_two 5\n",
      "products_page_two 5\n",
      "products_page_two 6\n",
      "products_page_two 6\n",
      "products_page_two 5\n",
      "products_page_two 7\n",
      "products_page_two 5\n",
      "products_page_two 6\n",
      "products_page_two 6\n",
      "products_page_two 9\n",
      "products_page_two 5\n",
      "products_page_two 7\n",
      "products_page_two 6\n",
      "products_page_two 5\n",
      "products_page_two 4\n",
      "products_page_two 5\n",
      "products_page_two 6\n",
      "products_page_two 5\n",
      "products_page_two 5\n",
      "products_page_two 6\n",
      "products_page_two 5\n",
      "products_page_two 5\n",
      "products_page_two 5\n",
      "products_page_two 4\n",
      "products_page_two 6\n",
      "products_page_two 6\n",
      "products_page_two 5\n",
      "products_page_two 10\n",
      "products_page_two 5\n",
      "products_page_two 5\n",
      "products_page_two 6\n",
      "products_page_two 5\n",
      "products_page_two 7\n",
      "products_page_two 7\n",
      "products_page_two 4\n",
      "products_page_two 7\n",
      "products_page_two 5\n",
      "products_page_two 7\n",
      "products_page_two 6\n",
      "products_page_two 5\n",
      "products_page_two 5\n",
      "products_page_two 7\n",
      "products_page_two 5\n",
      "products_page_two 5\n",
      "products_page_two 4\n",
      "products_page_two 8\n",
      "products_page_two 6\n",
      "products_page_two 6\n",
      "products_page_two 6\n",
      "products_page_two 5\n",
      "products_page_two 5\n",
      "products_page_two 5\n",
      "products_page_two 7\n",
      "products_page_two 7\n",
      "products_page_two 5\n",
      "products_page_two 5\n",
      "products_page_two 6\n",
      "products_page_two 5\n",
      "products_page_two 6\n",
      "products_page_two 5\n",
      "products_page_two 6\n",
      "products_page_two 6\n"
     ]
    }
   ],
   "source": [
    "zalando_crawler(BASEPATH,LIST_URL)"
   ]
  },
  {
   "cell_type": "code",
   "execution_count": 107,
   "metadata": {},
   "outputs": [],
   "source": [
    "def download_data(data):\n",
    "    for i, (k, v) in enumerate(tqdm.tqdm(data.items())):\n",
    "        response = requests.get(k)\n",
    "        file = open(v, \"wb\")\n",
    "        file.write(response.content)\n",
    "        file.close()\n",
    "\n",
    "        \n",
    "        "
   ]
  },
  {
   "cell_type": "code",
   "execution_count": 108,
   "metadata": {},
   "outputs": [
    {
     "name": "stderr",
     "output_type": "stream",
     "text": [
      "100%|██████████| 477/477 [16:58<00:00,  2.14s/it]  \n"
     ]
    }
   ],
   "source": [
    "download_data(dict_url_location)"
   ]
  },
  {
   "cell_type": "code",
   "execution_count": null,
   "metadata": {},
   "outputs": [],
   "source": []
  },
  {
   "cell_type": "code",
   "execution_count": null,
   "metadata": {},
   "outputs": [],
   "source": []
  }
 ],
 "metadata": {
  "kernelspec": {
   "display_name": "Python 3",
   "language": "python",
   "name": "python3"
  },
  "language_info": {
   "codemirror_mode": {
    "name": "ipython",
    "version": 3
   },
   "file_extension": ".py",
   "mimetype": "text/x-python",
   "name": "python",
   "nbconvert_exporter": "python",
   "pygments_lexer": "ipython3",
   "version": "3.8.10"
  }
 },
 "nbformat": 4,
 "nbformat_minor": 2
}
